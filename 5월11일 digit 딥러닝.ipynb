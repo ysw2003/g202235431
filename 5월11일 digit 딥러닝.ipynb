{
 "cells": [
  {
   "cell_type": "code",
   "execution_count": 1,
   "metadata": {},
   "outputs": [
    {
     "data": {
      "text/plain": [
       "<matplotlib.image.AxesImage at 0x1cc26bb8d00>"
      ]
     },
     "execution_count": 1,
     "metadata": {},
     "output_type": "execute_result"
    },
    {
     "data": {
      "image/png": "[encoded data removed]",
      "text/plain": [
       "<Figure size 640x480 with 1 Axes>"
      ]
     },
     "metadata": {},
     "output_type": "display_data"
    }
   ],
   "source": [
    "\n",
    "import matplotlib.pyplot as plt\n",
    "from sklearn import datasets, metrics\n",
    "from sklearn.model_selection import train_test_split\n",
    "\n",
    "\n",
    "digits = datasets.load_digits()\n",
    "plt.imshow(digits.images[0], cmap=plt.cm.gray_r, interpolation='nearest')"
   ]
  },
  {
   "cell_type": "code",
   "execution_count": 2,
   "metadata": {},
   "outputs": [],
   "source": [
    "n_samples = len(digits.images)\n",
    "\n",
    "data = digits.images.reshape((n_samples, -1))\n",
    "\n",
    "# 이미지를 평판화 n x sample x 8 8 => n_sample x 64"
   ]
  },
  {
   "cell_type": "code",
   "execution_count": 3,
   "metadata": {},
   "outputs": [
    {
     "data": {
      "text/plain": [
       "(1797, 64)"
      ]
     },
     "execution_count": 3,
     "metadata": {},
     "output_type": "execute_result"
    }
   ],
   "source": [
    "data.shape"
   ]
  },
  {
   "cell_type": "code",
   "execution_count": 7,
   "metadata": {},
   "outputs": [],
   "source": [
    "import matplotlib.pyplot as plt\n",
    "import numpy as np\n",
    "import pandas as pd\n",
    "import seaborn as sns\n",
    "from sklearn.model_selection import train_test_split\n",
    "from sklearn.linear_model import LinearRegression\n",
    "from sklearn.metrics import mean_squared_error, r2_score\n",
    "from sklearn import metrics\n",
    "import tensorflow as tf\n",
    "from tensorflow import keras\n",
    "from tensorflow.keras import layers\n",
    "\n",
    "X = data\n",
    "y = digits.target\n",
    "\n",
    "from sklearn.preprocessing import LabelEncoder\n",
    "encoder =  LabelEncoder()\n",
    "y1 = encoder.fit_transform(y)\n",
    "\n",
    "Y = pd.get_dummies(y1).values\n",
    "\n",
    "\n",
    "from sklearn.model_selection import train_test_split\n",
    "X_train,X_test, y_train,y_test = train_test_split(X,Y,test_size=0.2,random_state=0) "
   ]
  },
  {
   "cell_type": "code",
   "execution_count": 8,
   "metadata": {},
   "outputs": [
    {
     "data": {
      "text/plain": [
       "array([[ 0.,  0.,  5., ...,  0.,  0.,  0.],\n",
       "       [ 0.,  0.,  0., ..., 10.,  0.,  0.],\n",
       "       [ 0.,  0.,  0., ..., 16.,  9.,  0.],\n",
       "       ...,\n",
       "       [ 0.,  0.,  1., ...,  6.,  0.,  0.],\n",
       "       [ 0.,  0.,  2., ..., 12.,  0.,  0.],\n",
       "       [ 0.,  0., 10., ..., 12.,  1.,  0.]])"
      ]
     },
     "execution_count": 8,
     "metadata": {},
     "output_type": "execute_result"
    }
   ],
   "source": [
    "X"
   ]
  },
  {
   "cell_type": "code",
   "execution_count": 13,
   "metadata": {},
   "outputs": [
    {
     "data": {
      "text/plain": [
       "(1797, 10)"
      ]
     },
     "execution_count": 13,
     "metadata": {},
     "output_type": "execute_result"
    }
   ],
   "source": [
    "Y.shape"
   ]
  },
  {
   "cell_type": "code",
   "execution_count": 26,
   "metadata": {},
   "outputs": [
    {
     "name": "stdout",
     "output_type": "stream",
     "text": [
      "Model: \"sequential_6\"\n",
      "_________________________________________________________________\n",
      " Layer (type)                Output Shape              Param #   \n",
      "=================================================================\n",
      " dense_24 (Dense)            (None, 50)                3250      \n",
      "                                                                 \n",
      " dense_25 (Dense)            (None, 40)                2040      \n",
      "                                                                 \n",
      " dense_26 (Dense)            (None, 30)                1230      \n",
      "                                                                 \n",
      " dense_27 (Dense)            (None, 10)                310       \n",
      "                                                                 \n",
      "=================================================================\n",
      "Total params: 6,830\n",
      "Trainable params: 6,830\n",
      "Non-trainable params: 0\n",
      "_________________________________________________________________\n"
     ]
    },
    {
     "name": "stderr",
     "output_type": "stream",
     "text": [
      "c:\\Users\\TFG155\\anaconda3\\lib\\site-packages\\keras\\optimizers\\legacy\\adam.py:117: UserWarning: The `lr` argument is deprecated, use `learning_rate` instead.\n",
      "  super().__init__(name, **kwargs)\n"
     ]
    }
   ],
   "source": [
    "from keras.models import Sequential\n",
    "from keras.layers import Dense\n",
    "from keras.optimizers import SGD,Adam\n",
    "\n",
    "\n",
    "model = Sequential()\n",
    "\n",
    "model.add(Dense(50,input_shape=(64,),activation='sigmoid'))\n",
    "model.add(Dense(40,activation='sigmoid'))\n",
    "model.add(Dense(30,activation='sigmoid'))\n",
    "model.add(Dense(10,activation='softmax'))\n",
    "\n",
    "model.compile(Adam(lr=0.04),'categorical_crossentropy',metrics=['accuracy'])\n",
    "\n",
    "model.summary()"
   ]
  },
  {
   "cell_type": "code",
   "execution_count": 27,
   "metadata": {},
   "outputs": [
    {
     "name": "stdout",
     "output_type": "stream",
     "text": [
      "Epoch 1/100\n",
      "45/45 [==============================] - 1s 8ms/step - loss: 2.0352 - accuracy: 0.2651 - val_loss: 1.2605 - val_accuracy: 0.6167\n",
      "Epoch 2/100\n",
      "45/45 [==============================] - 0s 3ms/step - loss: 0.8583 - accuracy: 0.7300 - val_loss: 0.5877 - val_accuracy: 0.7861\n",
      "Epoch 3/100\n",
      "45/45 [==============================] - 0s 4ms/step - loss: 0.6274 - accuracy: 0.8003 - val_loss: 0.5278 - val_accuracy: 0.8278\n",
      "Epoch 4/100\n",
      "45/45 [==============================] - 0s 3ms/step - loss: 0.5967 - accuracy: 0.8128 - val_loss: 0.5015 - val_accuracy: 0.8194\n",
      "Epoch 5/100\n",
      "45/45 [==============================] - 0s 3ms/step - loss: 0.4930 - accuracy: 0.8476 - val_loss: 0.5217 - val_accuracy: 0.8000\n",
      "Epoch 6/100\n",
      "45/45 [==============================] - 0s 3ms/step - loss: 0.4686 - accuracy: 0.8553 - val_loss: 0.8306 - val_accuracy: 0.7556\n",
      "Epoch 7/100\n",
      "45/45 [==============================] - 0s 3ms/step - loss: 0.4745 - accuracy: 0.8518 - val_loss: 0.3439 - val_accuracy: 0.9056\n",
      "Epoch 8/100\n",
      "45/45 [==============================] - 0s 3ms/step - loss: 0.4200 - accuracy: 0.8664 - val_loss: 0.4876 - val_accuracy: 0.8778\n",
      "Epoch 9/100\n",
      "45/45 [==============================] - 0s 3ms/step - loss: 0.3465 - accuracy: 0.9074 - val_loss: 0.3261 - val_accuracy: 0.9111\n",
      "Epoch 10/100\n",
      "45/45 [==============================] - 0s 3ms/step - loss: 0.3886 - accuracy: 0.8880 - val_loss: 0.4211 - val_accuracy: 0.8889\n",
      "Epoch 11/100\n",
      "45/45 [==============================] - 0s 4ms/step - loss: 0.5057 - accuracy: 0.8392 - val_loss: 0.3198 - val_accuracy: 0.9167\n",
      "Epoch 12/100\n",
      "45/45 [==============================] - 0s 3ms/step - loss: 0.3147 - accuracy: 0.9109 - val_loss: 0.3962 - val_accuracy: 0.8472\n",
      "Epoch 13/100\n",
      "45/45 [==============================] - 0s 3ms/step - loss: 0.4257 - accuracy: 0.8539 - val_loss: 0.4412 - val_accuracy: 0.8556\n",
      "Epoch 14/100\n",
      "45/45 [==============================] - 0s 3ms/step - loss: 0.3603 - accuracy: 0.8956 - val_loss: 0.3930 - val_accuracy: 0.8833\n",
      "Epoch 15/100\n",
      "45/45 [==============================] - 0s 3ms/step - loss: 0.4127 - accuracy: 0.8775 - val_loss: 0.2795 - val_accuracy: 0.9194\n",
      "Epoch 16/100\n",
      "45/45 [==============================] - 0s 3ms/step - loss: 0.4351 - accuracy: 0.8643 - val_loss: 0.4685 - val_accuracy: 0.8583\n",
      "Epoch 17/100\n",
      "45/45 [==============================] - 0s 3ms/step - loss: 0.3534 - accuracy: 0.8796 - val_loss: 0.4387 - val_accuracy: 0.8694\n",
      "Epoch 18/100\n",
      "45/45 [==============================] - 0s 4ms/step - loss: 0.3430 - accuracy: 0.8998 - val_loss: 0.3102 - val_accuracy: 0.9028\n",
      "Epoch 19/100\n",
      "45/45 [==============================] - 0s 3ms/step - loss: 0.3113 - accuracy: 0.9047 - val_loss: 0.4692 - val_accuracy: 0.8472\n",
      "Epoch 20/100\n",
      "45/45 [==============================] - 0s 3ms/step - loss: 0.3157 - accuracy: 0.9033 - val_loss: 0.2168 - val_accuracy: 0.9556\n",
      "Epoch 21/100\n",
      "45/45 [==============================] - 0s 3ms/step - loss: 0.2751 - accuracy: 0.9290 - val_loss: 0.4869 - val_accuracy: 0.8444\n",
      "Epoch 22/100\n",
      "45/45 [==============================] - 0s 3ms/step - loss: 0.3088 - accuracy: 0.9144 - val_loss: 0.3209 - val_accuracy: 0.9167\n",
      "Epoch 23/100\n",
      "45/45 [==============================] - 0s 3ms/step - loss: 0.3432 - accuracy: 0.9019 - val_loss: 0.3340 - val_accuracy: 0.9056\n",
      "Epoch 24/100\n",
      "45/45 [==============================] - 0s 3ms/step - loss: 0.2905 - accuracy: 0.9130 - val_loss: 0.3896 - val_accuracy: 0.9028\n",
      "Epoch 25/100\n",
      "45/45 [==============================] - 0s 3ms/step - loss: 0.2931 - accuracy: 0.9088 - val_loss: 0.3097 - val_accuracy: 0.9111\n",
      "Epoch 26/100\n",
      "45/45 [==============================] - 0s 3ms/step - loss: 0.3547 - accuracy: 0.8866 - val_loss: 0.4985 - val_accuracy: 0.8528\n",
      "Epoch 27/100\n",
      "45/45 [==============================] - 0s 3ms/step - loss: 0.3910 - accuracy: 0.8685 - val_loss: 0.3588 - val_accuracy: 0.9028\n",
      "Epoch 28/100\n",
      "45/45 [==============================] - 0s 3ms/step - loss: 0.3685 - accuracy: 0.8845 - val_loss: 0.3848 - val_accuracy: 0.8889\n",
      "Epoch 29/100\n",
      "45/45 [==============================] - 0s 3ms/step - loss: 0.2651 - accuracy: 0.9207 - val_loss: 0.3126 - val_accuracy: 0.8972\n",
      "Epoch 30/100\n",
      "45/45 [==============================] - 0s 3ms/step - loss: 0.3216 - accuracy: 0.8949 - val_loss: 0.3783 - val_accuracy: 0.8833\n",
      "Epoch 31/100\n",
      "45/45 [==============================] - 0s 3ms/step - loss: 0.3613 - accuracy: 0.8894 - val_loss: 0.3899 - val_accuracy: 0.9000\n",
      "Epoch 32/100\n",
      "45/45 [==============================] - 0s 3ms/step - loss: 0.3536 - accuracy: 0.9012 - val_loss: 0.4694 - val_accuracy: 0.8611\n",
      "Epoch 33/100\n",
      "45/45 [==============================] - 0s 3ms/step - loss: 0.3385 - accuracy: 0.9005 - val_loss: 0.2620 - val_accuracy: 0.9306\n",
      "Epoch 34/100\n",
      "45/45 [==============================] - 0s 3ms/step - loss: 0.2517 - accuracy: 0.9339 - val_loss: 0.2480 - val_accuracy: 0.9333\n",
      "Epoch 35/100\n",
      "45/45 [==============================] - 0s 3ms/step - loss: 0.2599 - accuracy: 0.9193 - val_loss: 0.2626 - val_accuracy: 0.9278\n",
      "Epoch 36/100\n",
      "45/45 [==============================] - 0s 3ms/step - loss: 0.1812 - accuracy: 0.9478 - val_loss: 0.2311 - val_accuracy: 0.9472\n",
      "Epoch 37/100\n",
      "45/45 [==============================] - 0s 3ms/step - loss: 0.2278 - accuracy: 0.9339 - val_loss: 0.2689 - val_accuracy: 0.9194\n",
      "Epoch 38/100\n",
      "45/45 [==============================] - 0s 3ms/step - loss: 0.2774 - accuracy: 0.9151 - val_loss: 0.3143 - val_accuracy: 0.9028\n",
      "Epoch 39/100\n",
      "45/45 [==============================] - 0s 3ms/step - loss: 0.2201 - accuracy: 0.9325 - val_loss: 0.4007 - val_accuracy: 0.8722\n",
      "Epoch 40/100\n",
      "45/45 [==============================] - 0s 3ms/step - loss: 0.3140 - accuracy: 0.9005 - val_loss: 0.4458 - val_accuracy: 0.8722\n",
      "Epoch 41/100\n",
      "45/45 [==============================] - 0s 3ms/step - loss: 0.2904 - accuracy: 0.9033 - val_loss: 0.2932 - val_accuracy: 0.9250\n",
      "Epoch 42/100\n",
      "45/45 [==============================] - 0s 3ms/step - loss: 0.2632 - accuracy: 0.9186 - val_loss: 0.3374 - val_accuracy: 0.9167\n",
      "Epoch 43/100\n",
      "45/45 [==============================] - 0s 3ms/step - loss: 0.2206 - accuracy: 0.9318 - val_loss: 0.3309 - val_accuracy: 0.9167\n",
      "Epoch 44/100\n",
      "45/45 [==============================] - 0s 3ms/step - loss: 0.2468 - accuracy: 0.9228 - val_loss: 0.3846 - val_accuracy: 0.8861\n",
      "Epoch 45/100\n",
      "45/45 [==============================] - 0s 3ms/step - loss: 0.2121 - accuracy: 0.9360 - val_loss: 0.3000 - val_accuracy: 0.9278\n",
      "Epoch 46/100\n",
      "45/45 [==============================] - 0s 3ms/step - loss: 0.1834 - accuracy: 0.9415 - val_loss: 0.2995 - val_accuracy: 0.9250\n",
      "Epoch 47/100\n",
      "45/45 [==============================] - 0s 3ms/step - loss: 0.2089 - accuracy: 0.9304 - val_loss: 0.3420 - val_accuracy: 0.9222\n",
      "Epoch 48/100\n",
      "45/45 [==============================] - 0s 3ms/step - loss: 0.2287 - accuracy: 0.9325 - val_loss: 0.4184 - val_accuracy: 0.8750\n",
      "Epoch 49/100\n",
      "45/45 [==============================] - 0s 3ms/step - loss: 0.1709 - accuracy: 0.9499 - val_loss: 0.3364 - val_accuracy: 0.9000\n",
      "Epoch 50/100\n",
      "45/45 [==============================] - 0s 3ms/step - loss: 0.1800 - accuracy: 0.9381 - val_loss: 0.2562 - val_accuracy: 0.9361\n",
      "Epoch 51/100\n",
      "45/45 [==============================] - 0s 3ms/step - loss: 0.1632 - accuracy: 0.9415 - val_loss: 0.2513 - val_accuracy: 0.9361\n",
      "Epoch 52/100\n",
      "45/45 [==============================] - 0s 3ms/step - loss: 0.2084 - accuracy: 0.9388 - val_loss: 0.3919 - val_accuracy: 0.8972\n",
      "Epoch 53/100\n",
      "45/45 [==============================] - 0s 3ms/step - loss: 0.3019 - accuracy: 0.9179 - val_loss: 0.3520 - val_accuracy: 0.9139\n",
      "Epoch 54/100\n",
      "45/45 [==============================] - 0s 3ms/step - loss: 0.2385 - accuracy: 0.9269 - val_loss: 0.4878 - val_accuracy: 0.8667\n",
      "Epoch 55/100\n",
      "45/45 [==============================] - 0s 3ms/step - loss: 0.2342 - accuracy: 0.9283 - val_loss: 0.3244 - val_accuracy: 0.9167\n",
      "Epoch 56/100\n",
      "45/45 [==============================] - 0s 3ms/step - loss: 0.2356 - accuracy: 0.9318 - val_loss: 0.3784 - val_accuracy: 0.8944\n",
      "Epoch 57/100\n",
      "45/45 [==============================] - 0s 3ms/step - loss: 0.2170 - accuracy: 0.9311 - val_loss: 0.3944 - val_accuracy: 0.8889\n",
      "Epoch 58/100\n",
      "45/45 [==============================] - 0s 3ms/step - loss: 0.2041 - accuracy: 0.9374 - val_loss: 0.3308 - val_accuracy: 0.9139\n",
      "Epoch 59/100\n",
      "45/45 [==============================] - 0s 3ms/step - loss: 0.1980 - accuracy: 0.9388 - val_loss: 0.3100 - val_accuracy: 0.9111\n",
      "Epoch 60/100\n",
      "45/45 [==============================] - 0s 3ms/step - loss: 0.1863 - accuracy: 0.9478 - val_loss: 0.2776 - val_accuracy: 0.9361\n",
      "Epoch 61/100\n",
      "45/45 [==============================] - 0s 3ms/step - loss: 0.1725 - accuracy: 0.9464 - val_loss: 0.2949 - val_accuracy: 0.9278\n",
      "Epoch 62/100\n",
      "45/45 [==============================] - 0s 3ms/step - loss: 0.1807 - accuracy: 0.9471 - val_loss: 0.2238 - val_accuracy: 0.9472\n",
      "Epoch 63/100\n",
      "45/45 [==============================] - 0s 3ms/step - loss: 0.1502 - accuracy: 0.9527 - val_loss: 0.2115 - val_accuracy: 0.9444\n",
      "Epoch 64/100\n",
      "45/45 [==============================] - 0s 3ms/step - loss: 0.1246 - accuracy: 0.9673 - val_loss: 0.2620 - val_accuracy: 0.9583\n",
      "Epoch 65/100\n",
      "45/45 [==============================] - 0s 3ms/step - loss: 0.1517 - accuracy: 0.9589 - val_loss: 0.2332 - val_accuracy: 0.9333\n",
      "Epoch 66/100\n",
      "45/45 [==============================] - 0s 3ms/step - loss: 0.2304 - accuracy: 0.9248 - val_loss: 0.5066 - val_accuracy: 0.8417\n",
      "Epoch 67/100\n",
      "45/45 [==============================] - 0s 3ms/step - loss: 0.4302 - accuracy: 0.8253 - val_loss: 0.4521 - val_accuracy: 0.8611\n",
      "Epoch 68/100\n",
      "45/45 [==============================] - 0s 3ms/step - loss: 0.2693 - accuracy: 0.9172 - val_loss: 0.3063 - val_accuracy: 0.9222\n",
      "Epoch 69/100\n",
      "45/45 [==============================] - 0s 3ms/step - loss: 0.3023 - accuracy: 0.9040 - val_loss: 0.8109 - val_accuracy: 0.7361\n",
      "Epoch 70/100\n",
      "45/45 [==============================] - 0s 3ms/step - loss: 0.3989 - accuracy: 0.8678 - val_loss: 0.3520 - val_accuracy: 0.9083\n",
      "Epoch 71/100\n",
      "45/45 [==============================] - 0s 3ms/step - loss: 0.4757 - accuracy: 0.8539 - val_loss: 0.4802 - val_accuracy: 0.8583\n",
      "Epoch 72/100\n",
      "45/45 [==============================] - 0s 3ms/step - loss: 0.3292 - accuracy: 0.9012 - val_loss: 0.3624 - val_accuracy: 0.8972\n",
      "Epoch 73/100\n",
      "45/45 [==============================] - 0s 3ms/step - loss: 0.3432 - accuracy: 0.8921 - val_loss: 0.4090 - val_accuracy: 0.8639\n",
      "Epoch 74/100\n",
      "45/45 [==============================] - 0s 3ms/step - loss: 0.4112 - accuracy: 0.8678 - val_loss: 0.4581 - val_accuracy: 0.8806\n",
      "Epoch 75/100\n",
      "45/45 [==============================] - 0s 3ms/step - loss: 0.4419 - accuracy: 0.8650 - val_loss: 0.4090 - val_accuracy: 0.8639\n",
      "Epoch 76/100\n",
      "45/45 [==============================] - 0s 3ms/step - loss: 0.3851 - accuracy: 0.8713 - val_loss: 0.3634 - val_accuracy: 0.8806\n",
      "Epoch 77/100\n",
      "45/45 [==============================] - 0s 3ms/step - loss: 0.2922 - accuracy: 0.9061 - val_loss: 0.3129 - val_accuracy: 0.9139\n",
      "Epoch 78/100\n",
      "45/45 [==============================] - 0s 3ms/step - loss: 0.2241 - accuracy: 0.9304 - val_loss: 0.4597 - val_accuracy: 0.8556\n",
      "Epoch 79/100\n",
      "45/45 [==============================] - 0s 3ms/step - loss: 0.2390 - accuracy: 0.9311 - val_loss: 0.3075 - val_accuracy: 0.9222\n",
      "Epoch 80/100\n",
      "45/45 [==============================] - 0s 3ms/step - loss: 0.1511 - accuracy: 0.9562 - val_loss: 0.3548 - val_accuracy: 0.9000\n",
      "Epoch 81/100\n",
      "45/45 [==============================] - 0s 3ms/step - loss: 0.1437 - accuracy: 0.9617 - val_loss: 0.2946 - val_accuracy: 0.9250\n",
      "Epoch 82/100\n",
      "45/45 [==============================] - 0s 3ms/step - loss: 0.1636 - accuracy: 0.9478 - val_loss: 0.4112 - val_accuracy: 0.9083\n",
      "Epoch 83/100\n",
      "45/45 [==============================] - 0s 3ms/step - loss: 0.2330 - accuracy: 0.9290 - val_loss: 0.3062 - val_accuracy: 0.9139\n",
      "Epoch 84/100\n",
      "45/45 [==============================] - 0s 3ms/step - loss: 0.1926 - accuracy: 0.9388 - val_loss: 0.3465 - val_accuracy: 0.8944\n",
      "Epoch 85/100\n",
      "45/45 [==============================] - 0s 3ms/step - loss: 0.2095 - accuracy: 0.9283 - val_loss: 0.3297 - val_accuracy: 0.9083\n",
      "Epoch 86/100\n",
      "45/45 [==============================] - 0s 3ms/step - loss: 0.2648 - accuracy: 0.9269 - val_loss: 0.3750 - val_accuracy: 0.9083\n",
      "Epoch 87/100\n",
      "45/45 [==============================] - 0s 3ms/step - loss: 0.2009 - accuracy: 0.9374 - val_loss: 0.2162 - val_accuracy: 0.9333\n",
      "Epoch 88/100\n",
      "45/45 [==============================] - 0s 3ms/step - loss: 0.1208 - accuracy: 0.9582 - val_loss: 0.2547 - val_accuracy: 0.9250\n",
      "Epoch 89/100\n",
      "45/45 [==============================] - 0s 3ms/step - loss: 0.1810 - accuracy: 0.9402 - val_loss: 0.2801 - val_accuracy: 0.9194\n",
      "Epoch 90/100\n",
      "45/45 [==============================] - 0s 3ms/step - loss: 0.1250 - accuracy: 0.9589 - val_loss: 0.2455 - val_accuracy: 0.9361\n",
      "Epoch 91/100\n",
      "45/45 [==============================] - 0s 3ms/step - loss: 0.1834 - accuracy: 0.9381 - val_loss: 0.3266 - val_accuracy: 0.9083\n",
      "Epoch 92/100\n",
      "45/45 [==============================] - 0s 3ms/step - loss: 0.1846 - accuracy: 0.9408 - val_loss: 0.3239 - val_accuracy: 0.9194\n",
      "Epoch 93/100\n",
      "45/45 [==============================] - 0s 3ms/step - loss: 0.1736 - accuracy: 0.9422 - val_loss: 0.3519 - val_accuracy: 0.9194\n",
      "Epoch 94/100\n",
      "45/45 [==============================] - 0s 3ms/step - loss: 0.2177 - accuracy: 0.9297 - val_loss: 0.3191 - val_accuracy: 0.9167\n",
      "Epoch 95/100\n",
      "45/45 [==============================] - 0s 3ms/step - loss: 0.1641 - accuracy: 0.9478 - val_loss: 0.2810 - val_accuracy: 0.9250\n",
      "Epoch 96/100\n",
      "45/45 [==============================] - 0s 3ms/step - loss: 0.1891 - accuracy: 0.9436 - val_loss: 0.2855 - val_accuracy: 0.9250\n",
      "Epoch 97/100\n",
      "45/45 [==============================] - 0s 3ms/step - loss: 0.1729 - accuracy: 0.9506 - val_loss: 0.3173 - val_accuracy: 0.9389\n",
      "Epoch 98/100\n",
      "45/45 [==============================] - 0s 3ms/step - loss: 0.2093 - accuracy: 0.9422 - val_loss: 0.2701 - val_accuracy: 0.9333\n",
      "Epoch 99/100\n",
      "45/45 [==============================] - 0s 3ms/step - loss: 0.1305 - accuracy: 0.9589 - val_loss: 0.2671 - val_accuracy: 0.9306\n",
      "Epoch 100/100\n",
      "45/45 [==============================] - 0s 3ms/step - loss: 0.1353 - accuracy: 0.9631 - val_loss: 0.2561 - val_accuracy: 0.9417\n",
      "12/12 [==============================] - 0s 1ms/step\n"
     ]
    }
   ],
   "source": [
    "model_history=model.fit(x=X_train, y=y_train, epochs=100, batch_size=32,validation_data= (X_test,y_test))\n",
    "y_pred = model.predict(X_test)\n",
    "\n",
    "y_test_class = np.argmax(y_test,axis=1)\n",
    "y_pred_class = np.argmax(y_pred,axis=1)"
   ]
  },
  {
   "cell_type": "code",
   "execution_count": 28,
   "metadata": {},
   "outputs": [
    {
     "name": "stdout",
     "output_type": "stream",
     "text": [
      "              precision    recall  f1-score   support\n",
      "\n",
      "           0       0.96      1.00      0.98        27\n",
      "           1       0.94      0.94      0.94        35\n",
      "           2       1.00      0.89      0.94        36\n",
      "           3       0.85      1.00      0.92        29\n",
      "           4       0.96      0.87      0.91        30\n",
      "           5       0.93      0.93      0.93        40\n",
      "           6       1.00      0.98      0.99        44\n",
      "           7       0.87      1.00      0.93        39\n",
      "           8       0.97      0.95      0.96        39\n",
      "           9       0.95      0.88      0.91        41\n",
      "\n",
      "    accuracy                           0.94       360\n",
      "   macro avg       0.94      0.94      0.94       360\n",
      "weighted avg       0.95      0.94      0.94       360\n",
      "\n",
      "[[27  0  0  0  0  0  0  0  0  0]\n",
      " [ 0 33  0  1  0  1  0  0  0  0]\n",
      " [ 0  0 32  3  0  0  0  0  1  0]\n",
      " [ 0  0  0 29  0  0  0  0  0  0]\n",
      " [ 1  0  0  0 26  1  0  2  0  0]\n",
      " [ 0  0  0  0  0 37  0  1  0  2]\n",
      " [ 0  0  0  0  1  0 43  0  0  0]\n",
      " [ 0  0  0  0  0  0  0 39  0  0]\n",
      " [ 0  2  0  0  0  0  0  0 37  0]\n",
      " [ 0  0  0  1  0  1  0  3  0 36]]\n"
     ]
    }
   ],
   "source": [
    "#Accuracy of the predicted values\n",
    "from sklearn.metrics import classification_report,confusion_matrix\n",
    "print(classification_report(y_test_class,y_pred_class))\n",
    "print(confusion_matrix(y_test_class,y_pred_class))"
   ]
  }
 ],
 "metadata": {
  "kernelspec": {
   "display_name": "base",
   "language": "python",
   "name": "python3"
  },
  "language_info": {
   "codemirror_mode": {
    "name": "ipython",
    "version": 3
   },
   "file_extension": ".py",
   "mimetype": "text/x-python",
   "name": "python",
   "nbconvert_exporter": "python",
   "pygments_lexer": "ipython3",
   "version": "3.9.13"
  },
  "orig_nbformat": 4
 },
 "nbformat": 4,
 "nbformat_minor": 2
}
