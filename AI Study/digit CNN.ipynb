{
 "cells": [
  {
   "cell_type": "code",
   "execution_count": 1,
   "metadata": {},
   "outputs": [
    {
     "data": {
      "text/plain": [
       "<matplotlib.image.AxesImage at 0x1ec78276370>"
      ]
     },
     "execution_count": 1,
     "metadata": {},
     "output_type": "execute_result"
    },
    {
     "data": {
      "image/png": "[encoded data removed]",
      "text/plain": [
       "<Figure size 640x480 with 1 Axes>"
      ]
     },
     "metadata": {},
     "output_type": "display_data"
    }
   ],
   "source": [
    "\n",
    "import matplotlib.pyplot as plt\n",
    "from sklearn import datasets, metrics\n",
    "from sklearn.model_selection import train_test_split\n",
    "\n",
    "\n",
    "digits = datasets.load_digits()\n",
    "plt.imshow(digits.images[0], cmap=plt.cm.gray_r, interpolation='nearest')"
   ]
  },
  {
   "cell_type": "code",
   "execution_count": 2,
   "metadata": {},
   "outputs": [
    {
     "data": {
      "text/plain": [
       "(1797, 8, 8)"
      ]
     },
     "execution_count": 2,
     "metadata": {},
     "output_type": "execute_result"
    }
   ],
   "source": [
    "data = digits.images\n",
    "data.shape"
   ]
  },
  {
   "cell_type": "code",
   "execution_count": 3,
   "metadata": {},
   "outputs": [
    {
     "name": "stdout",
     "output_type": "stream",
     "text": [
      "(1797, 8, 8)\n",
      "Training matrix shape (1437, 8, 8, 1)\n",
      "Testing matrix shape (360, 8, 8, 1)\n"
     ]
    }
   ],
   "source": [
    "import matplotlib.pyplot as plt\n",
    "import numpy as np\n",
    "import pandas as pd\n",
    "import seaborn as sns\n",
    "from sklearn.model_selection import train_test_split\n",
    "from sklearn.linear_model import LinearRegression\n",
    "from sklearn.metrics import mean_squared_error, r2_score\n",
    "from sklearn import metrics\n",
    "import tensorflow as tf\n",
    "from tensorflow import keras\n",
    "from tensorflow.keras import layers\n",
    "\n",
    "X = data\n",
    "y = digits.target\n",
    "\n",
    "print(X.shape)\n",
    "\n",
    "X = X.reshape(X.shape[0], 8, 8, 1) \n",
    "\n",
    "X /= 255                             \n",
    "\n",
    "from keras.utils import to_categorical\n",
    "\n",
    "nb_classes = 10\n",
    "\n",
    "y = to_categorical(y, nb_classes)\n",
    "\n",
    "from sklearn.model_selection import train_test_split\n",
    "X_train,X_test, y_train,y_test = train_test_split(X,y,test_size=0.2,random_state=0) \n",
    "\n",
    "print(\"Training matrix shape\", X_train.shape)\n",
    "\n",
    "print(\"Testing matrix shape\", X_test.shape)\n",
    "\n",
    "\n"
   ]
  },
  {
   "cell_type": "code",
   "execution_count": 4,
   "metadata": {},
   "outputs": [
    {
     "name": "stdout",
     "output_type": "stream",
     "text": [
      "X train : (1437, 8, 8, 1)\n",
      "y train : (1437, 10)\n",
      "X test : (360, 8, 8, 1)\n",
      "y test : (360, 10)\n"
     ]
    }
   ],
   "source": [
    "print(\"X train :\", X_train.shape)\n",
    "print(\"y train :\", y_train.shape)\n",
    "print(\"X test :\", X_test.shape)\n",
    "print(\"y test :\", y_test.shape)"
   ]
  },
  {
   "cell_type": "code",
   "execution_count": 8,
   "metadata": {},
   "outputs": [
    {
     "name": "stdout",
     "output_type": "stream",
     "text": [
      "Model: \"sequential_1\"\n",
      "_________________________________________________________________\n",
      " Layer (type)                Output Shape              Param #   \n",
      "=================================================================\n",
      " conv2d_1 (Conv2D)           (None, 8, 8, 32)          320       \n",
      "                                                                 \n",
      " max_pooling2d_1 (MaxPooling  (None, 4, 4, 32)         0         \n",
      " 2D)                                                             \n",
      "                                                                 \n",
      " flatten_1 (Flatten)         (None, 512)               0         \n",
      "                                                                 \n",
      " dense_2 (Dense)             (None, 100)               51300     \n",
      "                                                                 \n",
      " dropout_1 (Dropout)         (None, 100)               0         \n",
      "                                                                 \n",
      " dense_3 (Dense)             (None, 10)                1010      \n",
      "                                                                 \n",
      "=================================================================\n",
      "Total params: 52,630\n",
      "Trainable params: 52,630\n",
      "Non-trainable params: 0\n",
      "_________________________________________________________________\n"
     ]
    }
   ],
   "source": [
    "from keras.models import Sequential\n",
    "from keras.layers import Dense\n",
    "from keras.optimizers import SGD,Adam\n",
    "\n",
    "model = Sequential()\n",
    "model.add(keras.layers.Conv2D(32, (3, 3), padding='same', activation='relu',\n",
    "                              input_shape=(8, 8, 1)))\n",
    "model.add(keras.layers.MaxPooling2D((2, 2)))\n",
    "\n",
    "model.add(keras.layers.Flatten())#2차원 데이터를 1차원으로 변경\n",
    "model.add(keras.layers.Dense(100, activation='relu'))\n",
    "model.add(keras.layers.Dropout(0.5))\n",
    "model.add(keras.layers.Dense(10, activation='softmax'))\n",
    "\n",
    "model.compile(optimizer='adam', loss='categorical_crossentropy', metrics=['accuracy'])\n",
    "\n",
    "model.summary()"
   ]
  },
  {
   "cell_type": "code",
   "execution_count": 9,
   "metadata": {},
   "outputs": [
    {
     "name": "stdout",
     "output_type": "stream",
     "text": [
      "Epoch 1/50\n",
      "45/45 [==============================] - 1s 9ms/step - loss: 2.2840 - accuracy: 0.1768 - val_loss: 2.2557 - val_accuracy: 0.4056\n",
      "Epoch 2/50\n",
      "45/45 [==============================] - 0s 6ms/step - loss: 2.1906 - accuracy: 0.3786 - val_loss: 2.1124 - val_accuracy: 0.5028\n",
      "Epoch 3/50\n",
      "45/45 [==============================] - 0s 5ms/step - loss: 1.9598 - accuracy: 0.5129 - val_loss: 1.7723 - val_accuracy: 0.6972\n",
      "Epoch 4/50\n",
      "45/45 [==============================] - 0s 5ms/step - loss: 1.5913 - accuracy: 0.6284 - val_loss: 1.3536 - val_accuracy: 0.7722\n",
      "Epoch 5/50\n",
      "45/45 [==============================] - 0s 5ms/step - loss: 1.2107 - accuracy: 0.6987 - val_loss: 1.0079 - val_accuracy: 0.7694\n",
      "Epoch 6/50\n",
      "45/45 [==============================] - 0s 6ms/step - loss: 0.9841 - accuracy: 0.7307 - val_loss: 0.8041 - val_accuracy: 0.8000\n",
      "Epoch 7/50\n",
      "45/45 [==============================] - 0s 5ms/step - loss: 0.8352 - accuracy: 0.7662 - val_loss: 0.6622 - val_accuracy: 0.8444\n",
      "Epoch 8/50\n",
      "45/45 [==============================] - 0s 6ms/step - loss: 0.7286 - accuracy: 0.8031 - val_loss: 0.5667 - val_accuracy: 0.8694\n",
      "Epoch 9/50\n",
      "45/45 [==============================] - 0s 5ms/step - loss: 0.6352 - accuracy: 0.8149 - val_loss: 0.4925 - val_accuracy: 0.8861\n",
      "Epoch 10/50\n",
      "45/45 [==============================] - 0s 5ms/step - loss: 0.5911 - accuracy: 0.8267 - val_loss: 0.4515 - val_accuracy: 0.8972\n",
      "Epoch 11/50\n",
      "45/45 [==============================] - 0s 4ms/step - loss: 0.5472 - accuracy: 0.8434 - val_loss: 0.4002 - val_accuracy: 0.9083\n",
      "Epoch 12/50\n",
      "45/45 [==============================] - 0s 5ms/step - loss: 0.5112 - accuracy: 0.8483 - val_loss: 0.3641 - val_accuracy: 0.9194\n",
      "Epoch 13/50\n",
      "45/45 [==============================] - 0s 5ms/step - loss: 0.4691 - accuracy: 0.8636 - val_loss: 0.3487 - val_accuracy: 0.9139\n",
      "Epoch 14/50\n",
      "45/45 [==============================] - 0s 5ms/step - loss: 0.4577 - accuracy: 0.8643 - val_loss: 0.3140 - val_accuracy: 0.9222\n",
      "Epoch 15/50\n",
      "45/45 [==============================] - 0s 5ms/step - loss: 0.4065 - accuracy: 0.8845 - val_loss: 0.2969 - val_accuracy: 0.9194\n",
      "Epoch 16/50\n",
      "45/45 [==============================] - 0s 5ms/step - loss: 0.3998 - accuracy: 0.8838 - val_loss: 0.2904 - val_accuracy: 0.9250\n",
      "Epoch 17/50\n",
      "45/45 [==============================] - 0s 6ms/step - loss: 0.3750 - accuracy: 0.8873 - val_loss: 0.2553 - val_accuracy: 0.9361\n",
      "Epoch 18/50\n",
      "45/45 [==============================] - 0s 6ms/step - loss: 0.3432 - accuracy: 0.8928 - val_loss: 0.2541 - val_accuracy: 0.9361\n",
      "Epoch 19/50\n",
      "45/45 [==============================] - 0s 5ms/step - loss: 0.3385 - accuracy: 0.8991 - val_loss: 0.2349 - val_accuracy: 0.9306\n",
      "Epoch 20/50\n",
      "45/45 [==============================] - 0s 5ms/step - loss: 0.3086 - accuracy: 0.9026 - val_loss: 0.2208 - val_accuracy: 0.9417\n",
      "Epoch 21/50\n",
      "45/45 [==============================] - 0s 5ms/step - loss: 0.2997 - accuracy: 0.9040 - val_loss: 0.2077 - val_accuracy: 0.9472\n",
      "Epoch 22/50\n",
      "45/45 [==============================] - 0s 5ms/step - loss: 0.3096 - accuracy: 0.8970 - val_loss: 0.2022 - val_accuracy: 0.9472\n",
      "Epoch 23/50\n",
      "45/45 [==============================] - 0s 6ms/step - loss: 0.2870 - accuracy: 0.9158 - val_loss: 0.1868 - val_accuracy: 0.9472\n",
      "Epoch 24/50\n",
      "45/45 [==============================] - 0s 5ms/step - loss: 0.2530 - accuracy: 0.9318 - val_loss: 0.1895 - val_accuracy: 0.9417\n",
      "Epoch 25/50\n",
      "45/45 [==============================] - 0s 5ms/step - loss: 0.2478 - accuracy: 0.9144 - val_loss: 0.1669 - val_accuracy: 0.9556\n",
      "Epoch 26/50\n",
      "45/45 [==============================] - 0s 5ms/step - loss: 0.2603 - accuracy: 0.9193 - val_loss: 0.1800 - val_accuracy: 0.9583\n",
      "Epoch 27/50\n",
      "45/45 [==============================] - 0s 5ms/step - loss: 0.2447 - accuracy: 0.9332 - val_loss: 0.1669 - val_accuracy: 0.9556\n",
      "Epoch 28/50\n",
      "45/45 [==============================] - 0s 5ms/step - loss: 0.2402 - accuracy: 0.9241 - val_loss: 0.1542 - val_accuracy: 0.9556\n",
      "Epoch 29/50\n",
      "45/45 [==============================] - 0s 4ms/step - loss: 0.2351 - accuracy: 0.9255 - val_loss: 0.1535 - val_accuracy: 0.9556\n",
      "Epoch 30/50\n",
      "45/45 [==============================] - 0s 5ms/step - loss: 0.2221 - accuracy: 0.9360 - val_loss: 0.1447 - val_accuracy: 0.9639\n",
      "Epoch 31/50\n",
      "45/45 [==============================] - 0s 5ms/step - loss: 0.2190 - accuracy: 0.9367 - val_loss: 0.1363 - val_accuracy: 0.9639\n",
      "Epoch 32/50\n",
      "45/45 [==============================] - 0s 5ms/step - loss: 0.2080 - accuracy: 0.9346 - val_loss: 0.1412 - val_accuracy: 0.9611\n",
      "Epoch 33/50\n",
      "45/45 [==============================] - 0s 5ms/step - loss: 0.2005 - accuracy: 0.9429 - val_loss: 0.1288 - val_accuracy: 0.9639\n",
      "Epoch 34/50\n",
      "45/45 [==============================] - 0s 5ms/step - loss: 0.1913 - accuracy: 0.9388 - val_loss: 0.1320 - val_accuracy: 0.9583\n",
      "Epoch 35/50\n",
      "45/45 [==============================] - 0s 5ms/step - loss: 0.1900 - accuracy: 0.9457 - val_loss: 0.1243 - val_accuracy: 0.9722\n",
      "Epoch 36/50\n",
      "45/45 [==============================] - 0s 4ms/step - loss: 0.1854 - accuracy: 0.9506 - val_loss: 0.1242 - val_accuracy: 0.9667\n",
      "Epoch 37/50\n",
      "45/45 [==============================] - 0s 5ms/step - loss: 0.1822 - accuracy: 0.9436 - val_loss: 0.1329 - val_accuracy: 0.9639\n",
      "Epoch 38/50\n",
      "45/45 [==============================] - 0s 5ms/step - loss: 0.1805 - accuracy: 0.9485 - val_loss: 0.1236 - val_accuracy: 0.9667\n",
      "Epoch 39/50\n",
      "45/45 [==============================] - 0s 5ms/step - loss: 0.1790 - accuracy: 0.9457 - val_loss: 0.1225 - val_accuracy: 0.9667\n",
      "Epoch 40/50\n",
      "45/45 [==============================] - 0s 5ms/step - loss: 0.1658 - accuracy: 0.9520 - val_loss: 0.1194 - val_accuracy: 0.9694\n",
      "Epoch 41/50\n",
      "45/45 [==============================] - 0s 5ms/step - loss: 0.1688 - accuracy: 0.9450 - val_loss: 0.1107 - val_accuracy: 0.9722\n",
      "Epoch 42/50\n",
      "45/45 [==============================] - 0s 5ms/step - loss: 0.1480 - accuracy: 0.9631 - val_loss: 0.1103 - val_accuracy: 0.9722\n",
      "Epoch 43/50\n",
      "45/45 [==============================] - 0s 5ms/step - loss: 0.1422 - accuracy: 0.9520 - val_loss: 0.1004 - val_accuracy: 0.9750\n",
      "Epoch 44/50\n",
      "45/45 [==============================] - 0s 5ms/step - loss: 0.1529 - accuracy: 0.9485 - val_loss: 0.0963 - val_accuracy: 0.9750\n",
      "Epoch 45/50\n",
      "45/45 [==============================] - 0s 5ms/step - loss: 0.1483 - accuracy: 0.9569 - val_loss: 0.1034 - val_accuracy: 0.9750\n",
      "Epoch 46/50\n",
      "45/45 [==============================] - 0s 5ms/step - loss: 0.1422 - accuracy: 0.9548 - val_loss: 0.0926 - val_accuracy: 0.9750\n",
      "Epoch 47/50\n",
      "45/45 [==============================] - 0s 5ms/step - loss: 0.1295 - accuracy: 0.9624 - val_loss: 0.0948 - val_accuracy: 0.9694\n",
      "Epoch 48/50\n",
      "45/45 [==============================] - 0s 5ms/step - loss: 0.1364 - accuracy: 0.9569 - val_loss: 0.0937 - val_accuracy: 0.9806\n",
      "Epoch 49/50\n",
      "45/45 [==============================] - 0s 5ms/step - loss: 0.1369 - accuracy: 0.9624 - val_loss: 0.0940 - val_accuracy: 0.9806\n",
      "Epoch 50/50\n",
      "45/45 [==============================] - 0s 5ms/step - loss: 0.1099 - accuracy: 0.9687 - val_loss: 0.0812 - val_accuracy: 0.9778\n"
     ]
    }
   ],
   "source": [
    "model_history=model.fit(x=X_train, y=y_train, epochs=50, batch_size=32,validation_data= (X_test,y_test))"
   ]
  },
  {
   "cell_type": "code",
   "execution_count": 10,
   "metadata": {},
   "outputs": [
    {
     "data": {
      "image/png": "[encoded data removed]",
      "text/plain": [
       "<Figure size 640x480 with 1 Axes>"
      ]
     },
     "metadata": {},
     "output_type": "display_data"
    }
   ],
   "source": [
    "import matplotlib.pyplot as plt\n",
    "plt.plot(model_history.history['loss'])\n",
    "plt.plot(model_history.history['val_loss'])\n",
    "plt.xlabel('epoch')\n",
    "plt.ylabel('loss')\n",
    "plt.title('Training and validation loss')\n",
    "plt.legend(['train','val'])\n",
    "plt.show()"
   ]
  }
 ],
 "metadata": {
  "kernelspec": {
   "display_name": "base",
   "language": "python",
   "name": "python3"
  },
  "language_info": {
   "codemirror_mode": {
    "name": "ipython",
    "version": 3
   },
   "file_extension": ".py",
   "mimetype": "text/x-python",
   "name": "python",
   "nbconvert_exporter": "python",
   "pygments_lexer": "ipython3",
   "version": "3.9.13"
  },
  "orig_nbformat": 4
 },
 "nbformat": 4,
 "nbformat_minor": 2
}
