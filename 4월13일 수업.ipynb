{
 "cells": [
  {
   "cell_type": "code",
   "execution_count": 1,
   "id": "e0d22403",
   "metadata": {},
   "outputs": [],
   "source": [
    "from sklearn.datasets import load_breast_cancer\n",
    "\n",
    "import pandas as pd\n",
    "\n",
    "breast_cancer_data = load_breast_cancer()\n",
    "\n",
    "df_data = pd.DataFrame(breast_cancer_data.data)\n",
    "\n",
    "df_labels = pd.DataFrame(breast_cancer_data.target)"
   ]
  },
  {
   "cell_type": "code",
   "execution_count": 2,
   "id": "e84b11f9",
   "metadata": {},
   "outputs": [
    {
     "name": "stdout",
     "output_type": "stream",
     "text": [
      "      0      1       2       3        4        5        6        7       8   \\\n",
      "0  17.99  10.38  122.80  1001.0  0.11840  0.27760  0.30010  0.14710  0.2419   \n",
      "1  20.57  17.77  132.90  1326.0  0.08474  0.07864  0.08690  0.07017  0.1812   \n",
      "2  19.69  21.25  130.00  1203.0  0.10960  0.15990  0.19740  0.12790  0.2069   \n",
      "3  11.42  20.38   77.58   386.1  0.14250  0.28390  0.24140  0.10520  0.2597   \n",
      "4  20.29  14.34  135.10  1297.0  0.10030  0.13280  0.19800  0.10430  0.1809   \n",
      "5  12.45  15.70   82.57   477.1  0.12780  0.17000  0.15780  0.08089  0.2087   \n",
      "6  18.25  19.98  119.60  1040.0  0.09463  0.10900  0.11270  0.07400  0.1794   \n",
      "7  13.71  20.83   90.20   577.9  0.11890  0.16450  0.09366  0.05985  0.2196   \n",
      "8  13.00  21.82   87.50   519.8  0.12730  0.19320  0.18590  0.09353  0.2350   \n",
      "9  12.46  24.04   83.97   475.9  0.11860  0.23960  0.22730  0.08543  0.2030   \n",
      "\n",
      "        9   ...     20     21      22      23      24      25      26      27  \\\n",
      "0  0.07871  ...  25.38  17.33  184.60  2019.0  0.1622  0.6656  0.7119  0.2654   \n",
      "1  0.05667  ...  24.99  23.41  158.80  1956.0  0.1238  0.1866  0.2416  0.1860   \n",
      "2  0.05999  ...  23.57  25.53  152.50  1709.0  0.1444  0.4245  0.4504  0.2430   \n",
      "3  0.09744  ...  14.91  26.50   98.87   567.7  0.2098  0.8663  0.6869  0.2575   \n",
      "4  0.05883  ...  22.54  16.67  152.20  1575.0  0.1374  0.2050  0.4000  0.1625   \n",
      "5  0.07613  ...  15.47  23.75  103.40   741.6  0.1791  0.5249  0.5355  0.1741   \n",
      "6  0.05742  ...  22.88  27.66  153.20  1606.0  0.1442  0.2576  0.3784  0.1932   \n",
      "7  0.07451  ...  17.06  28.14  110.60   897.0  0.1654  0.3682  0.2678  0.1556   \n",
      "8  0.07389  ...  15.49  30.73  106.20   739.3  0.1703  0.5401  0.5390  0.2060   \n",
      "9  0.08243  ...  15.09  40.68   97.65   711.4  0.1853  1.0580  1.1050  0.2210   \n",
      "\n",
      "       28       29  \n",
      "0  0.4601  0.11890  \n",
      "1  0.2750  0.08902  \n",
      "2  0.3613  0.08758  \n",
      "3  0.6638  0.17300  \n",
      "4  0.2364  0.07678  \n",
      "5  0.3985  0.12440  \n",
      "6  0.3063  0.08368  \n",
      "7  0.3196  0.11510  \n",
      "8  0.4378  0.10720  \n",
      "9  0.4366  0.20750  \n",
      "\n",
      "[10 rows x 30 columns]\n",
      "   0\n",
      "0  0\n",
      "1  0\n",
      "2  0\n",
      "3  0\n",
      "4  0\n",
      "5  0\n",
      "6  0\n",
      "7  0\n",
      "8  0\n",
      "9  0\n"
     ]
    }
   ],
   "source": [
    "print(df_data[:10])\n",
    "print(df_labels[:10])"
   ]
  },
  {
   "cell_type": "code",
   "execution_count": 3,
   "id": "2964b661",
   "metadata": {},
   "outputs": [
    {
     "name": "stdout",
     "output_type": "stream",
     "text": [
      "['malignant' 'benign']\n"
     ]
    }
   ],
   "source": [
    "print(breast_cancer_data.target_names)"
   ]
  },
  {
   "cell_type": "code",
   "execution_count": 4,
   "id": "03978af6",
   "metadata": {},
   "outputs": [],
   "source": [
    "X_train = df_data[:455]\n",
    "y_train = df_labels[:455]\n",
    "X_test = df_data[455:]\n",
    "y_test = df_labels[455:]"
   ]
  },
  {
   "cell_type": "code",
   "execution_count": 5,
   "id": "5baf03be",
   "metadata": {},
   "outputs": [
    {
     "name": "stdout",
     "output_type": "stream",
     "text": [
      "X_train.shape : (455, 30)\n",
      "y_train.shape : (455, 1)\n",
      "X_test.shape: (114, 30)\n",
      "y_test.shape: (455, 1)\n"
     ]
    }
   ],
   "source": [
    "print(\"X_train.shape :\", X_train.shape)\n",
    "\n",
    "print(\"y_train.shape :\", y_train.shape)\n",
    "\n",
    "print(\"X_test.shape:\", X_test.shape)\n",
    "\n",
    "print(\"y_test.shape:\", y_train.shape)"
   ]
  },
  {
   "cell_type": "code",
   "execution_count": 6,
   "id": "b757a78f",
   "metadata": {},
   "outputs": [],
   "source": [
    "from sklearn.neighbors import KNeighborsClassifier\n",
    "\n",
    "mymodel = KNeighborsClassifier()"
   ]
  },
  {
   "cell_type": "code",
   "execution_count": 7,
   "id": "8366f187",
   "metadata": {},
   "outputs": [
    {
     "name": "stderr",
     "output_type": "stream",
     "text": [
      "c:\\Users\\TFG155\\anaconda3\\lib\\site-packages\\sklearn\\neighbors\\_classification.py:198: DataConversionWarning: A column-vector y was passed when a 1d array was expected. Please change the shape of y to (n_samples,), for example using ravel().\n",
      "  return self._fit(X, y)\n"
     ]
    },
    {
     "data": {
      "text/plain": [
       "KNeighborsClassifier()"
      ]
     },
     "execution_count": 7,
     "metadata": {},
     "output_type": "execute_result"
    }
   ],
   "source": [
    "mymodel.fit(X_train, y_train)"
   ]
  },
  {
   "cell_type": "code",
   "execution_count": 8,
   "id": "4629eb06",
   "metadata": {
    "scrolled": true
   },
   "outputs": [
    {
     "name": "stderr",
     "output_type": "stream",
     "text": [
      "c:\\Users\\TFG155\\anaconda3\\lib\\site-packages\\sklearn\\neighbors\\_classification.py:228: FutureWarning: Unlike other reduction functions (e.g. `skew`, `kurtosis`), the default behavior of `mode` typically preserves the axis it acts along. In SciPy 1.11.0, this behavior will change: the default value of `keepdims` will become False, the `axis` over which the statistic is taken will be eliminated, and the value None will no longer be accepted. Set `keepdims` to True or False to avoid this warning.\n",
      "  mode, _ = stats.mode(_y[neigh_ind, k], axis=1)\n",
      "c:\\Users\\TFG155\\anaconda3\\lib\\site-packages\\sklearn\\neighbors\\_classification.py:228: FutureWarning: Unlike other reduction functions (e.g. `skew`, `kurtosis`), the default behavior of `mode` typically preserves the axis it acts along. In SciPy 1.11.0, this behavior will change: the default value of `keepdims` will become False, the `axis` over which the statistic is taken will be eliminated, and the value None will no longer be accepted. Set `keepdims` to True or False to avoid this warning.\n",
      "  mode, _ = stats.mode(_y[neigh_ind, k], axis=1)\n"
     ]
    },
    {
     "data": {
      "text/plain": [
       "0.9385964912280702"
      ]
     },
     "execution_count": 8,
     "metadata": {},
     "output_type": "execute_result"
    }
   ],
   "source": [
    "prediction = mymodel.predict(X_test)\n",
    "\n",
    "mymodel.score(X_test, y_test)"
   ]
  },
  {
   "cell_type": "code",
   "execution_count": 9,
   "id": "2f6b697f",
   "metadata": {},
   "outputs": [],
   "source": [
    "from sklearn.model_selection import train_test_split\n",
    "\n",
    "data = df_data.to_numpy()\n",
    "target = df_labels.to_numpy()\n",
    "\n",
    "train_input, test_input, train_target, test_target = train_test_split(data, target, test_size=0.2, random_state=42)"
   ]
  },
  {
   "cell_type": "code",
   "execution_count": 10,
   "id": "fe3ef5c3",
   "metadata": {},
   "outputs": [
    {
     "name": "stdout",
     "output_type": "stream",
     "text": [
      "1.0 0.9582417582417582\n"
     ]
    }
   ],
   "source": [
    "from sklearn.model_selection import cross_validate\n",
    "from sklearn.ensemble import RandomForestClassifier\n",
    "import numpy as np\n",
    "\n",
    "rf = RandomForestClassifier(n_jobs=-1, random_state=42)\n",
    "scores = cross_validate(rf, train_input, train_target, return_train_score=True, n_jobs=-1)\n",
    "\n",
    "print(np.mean(scores['train_score']), np.mean(scores['test_score']))"
   ]
  },
  {
   "cell_type": "code",
   "execution_count": 11,
   "id": "ac4133f1",
   "metadata": {},
   "outputs": [
    {
     "name": "stdout",
     "output_type": "stream",
     "text": [
      "[0.04870337 0.01359088 0.05326975 0.04755501 0.00728533 0.01394433\n",
      " 0.06800084 0.10620999 0.00377029 0.00388577 0.02013892 0.00472399\n",
      " 0.01130301 0.02240696 0.00427091 0.00525322 0.00938583 0.00351326\n",
      " 0.00401842 0.00532146 0.07798688 0.02174901 0.06711483 0.15389236\n",
      " 0.01064421 0.02026604 0.0318016  0.14466327 0.01012018 0.00521012]\n"
     ]
    },
    {
     "name": "stderr",
     "output_type": "stream",
     "text": [
      "C:\\Users\\TFG155\\AppData\\Local\\Temp\\ipykernel_6776\\1601215919.py:1: DataConversionWarning: A column-vector y was passed when a 1d array was expected. Please change the shape of y to (n_samples,), for example using ravel().\n",
      "  rf.fit(train_input, train_target)\n"
     ]
    }
   ],
   "source": [
    "rf.fit(train_input, train_target)\n",
    "print(rf.feature_importances_)"
   ]
  },
  {
   "cell_type": "code",
   "execution_count": 12,
   "id": "5ac381e3",
   "metadata": {},
   "outputs": [
    {
     "name": "stderr",
     "output_type": "stream",
     "text": [
      "C:\\Users\\TFG155\\AppData\\Local\\Temp\\ipykernel_6776\\1994515342.py:3: DataConversionWarning: A column-vector y was passed when a 1d array was expected. Please change the shape of y to (n_samples,), for example using ravel().\n",
      "  rf.fit(train_input, train_target)\n"
     ]
    },
    {
     "name": "stdout",
     "output_type": "stream",
     "text": [
      "0.9560439560439561\n"
     ]
    }
   ],
   "source": [
    "rf = RandomForestClassifier(oob_score=True, n_jobs=-1, random_state=42)\n",
    "\n",
    "rf.fit(train_input, train_target)\n",
    "print(rf.oob_score_)"
   ]
  },
  {
   "cell_type": "code",
   "execution_count": 13,
   "id": "a956b7c2",
   "metadata": {},
   "outputs": [
    {
     "name": "stdout",
     "output_type": "stream",
     "text": [
      "1.0 0.9626373626373625\n"
     ]
    }
   ],
   "source": [
    "#엑스트라트리\n",
    "from sklearn.ensemble import ExtraTreesClassifier\n",
    "\n",
    "et = ExtraTreesClassifier(n_jobs=-1, random_state=42)\n",
    "scores = cross_validate(et, train_input, train_target, return_train_score=True, n_jobs=-1)\n",
    "\n",
    "print(np.mean(scores['train_score']), np.mean(scores['test_score']))"
   ]
  },
  {
   "cell_type": "code",
   "execution_count": 14,
   "id": "1d66458a",
   "metadata": {},
   "outputs": [
    {
     "name": "stdout",
     "output_type": "stream",
     "text": [
      "[0.07056276 0.02515277 0.03321301 0.04161836 0.01042362 0.02950286\n",
      " 0.06475801 0.0735693  0.00678652 0.00757519 0.01761604 0.00618722\n",
      " 0.0173427  0.03537469 0.00658643 0.00797924 0.00703864 0.01101909\n",
      " 0.00652007 0.00719335 0.11657282 0.02730071 0.10130041 0.06646302\n",
      " 0.02205361 0.02753929 0.04103085 0.08496076 0.01484804 0.01191061]\n"
     ]
    },
    {
     "name": "stderr",
     "output_type": "stream",
     "text": [
      "C:\\Users\\TFG155\\AppData\\Local\\Temp\\ipykernel_6776\\761699895.py:1: DataConversionWarning: A column-vector y was passed when a 1d array was expected. Please change the shape of y to (n_samples,), for example using ravel().\n",
      "  et.fit(train_input, train_target)\n"
     ]
    }
   ],
   "source": [
    "et.fit(train_input, train_target)\n",
    "print(et.feature_importances_)"
   ]
  },
  {
   "cell_type": "code",
   "execution_count": 15,
   "id": "1d0a2433",
   "metadata": {},
   "outputs": [
    {
     "name": "stdout",
     "output_type": "stream",
     "text": [
      "1.0 0.9516483516483516\n"
     ]
    }
   ],
   "source": [
    "#그레이디언트 부스팅\n",
    "from sklearn.ensemble import GradientBoostingClassifier\n",
    "\n",
    "gb = GradientBoostingClassifier(random_state=42)\n",
    "scores = cross_validate(gb, train_input, train_target, return_train_score=True, n_jobs=-1)\n",
    "\n",
    "print(np.mean(scores['train_score']), np.mean(scores['test_score']))"
   ]
  },
  {
   "cell_type": "code",
   "execution_count": 16,
   "id": "34515d77",
   "metadata": {},
   "outputs": [
    {
     "name": "stdout",
     "output_type": "stream",
     "text": [
      "1.0 0.9582417582417582\n"
     ]
    }
   ],
   "source": [
    "gb = GradientBoostingClassifier(n_estimators=500, learning_rate=0.2, random_state=42)\n",
    "scores = cross_validate(gb, train_input, train_target, return_train_score=True, n_jobs=-1)\n",
    "\n",
    "print(np.mean(scores['train_score']), np.mean(scores['test_score']))"
   ]
  },
  {
   "cell_type": "code",
   "execution_count": 17,
   "id": "8c947119",
   "metadata": {},
   "outputs": [
    {
     "name": "stderr",
     "output_type": "stream",
     "text": [
      "c:\\Users\\TFG155\\anaconda3\\lib\\site-packages\\sklearn\\ensemble\\_gb.py:494: DataConversionWarning: A column-vector y was passed when a 1d array was expected. Please change the shape of y to (n_samples, ), for example using ravel().\n",
      "  y = column_or_1d(y, warn=True)\n"
     ]
    },
    {
     "name": "stdout",
     "output_type": "stream",
     "text": [
      "[1.71829240e-04 3.27848146e-02 9.93955307e-04 9.43738259e-04\n",
      " 7.57469663e-03 2.12621664e-03 2.29912719e-03 4.36451103e-01\n",
      " 3.81209153e-04 8.06194703e-05 8.87889973e-03 5.17917256e-03\n",
      " 3.47782084e-04 5.60342182e-03 2.75539441e-04 7.42937562e-04\n",
      " 5.41607976e-03 8.74113653e-05 4.98061015e-04 8.23740768e-03\n",
      " 1.03839559e-01 2.05866017e-02 5.13172592e-02 4.94657519e-02\n",
      " 5.10286733e-03 1.75884676e-04 2.34865823e-02 2.26572206e-01\n",
      " 3.56138301e-04 2.31272732e-05]\n"
     ]
    }
   ],
   "source": [
    "gb.fit(train_input, train_target)\n",
    "print(gb.feature_importances_)"
   ]
  },
  {
   "cell_type": "code",
   "execution_count": 18,
   "id": "5b18455f",
   "metadata": {},
   "outputs": [
    {
     "name": "stdout",
     "output_type": "stream",
     "text": [
      "1.0 0.9604395604395606\n"
     ]
    }
   ],
   "source": [
    "#히스토그램 기반 부스팅\n",
    "from sklearn.ensemble import HistGradientBoostingClassifier\n",
    "\n",
    "hgb = HistGradientBoostingClassifier(random_state=42)\n",
    "scores = cross_validate(hgb, train_input, train_target, return_train_score=True, n_jobs=-1)\n",
    "\n",
    "print(np.mean(scores['train_score']), np.mean(scores['test_score']))"
   ]
  },
  {
   "cell_type": "code",
   "execution_count": 19,
   "id": "66d08e4c",
   "metadata": {},
   "outputs": [
    {
     "name": "stderr",
     "output_type": "stream",
     "text": [
      "c:\\Users\\TFG155\\anaconda3\\lib\\site-packages\\sklearn\\utils\\validation.py:993: DataConversionWarning: A column-vector y was passed when a 1d array was expected. Please change the shape of y to (n_samples, ), for example using ravel().\n",
      "  y = column_or_1d(y, warn=True)\n"
     ]
    },
    {
     "name": "stdout",
     "output_type": "stream",
     "text": [
      "[0.         0.0043956  0.         0.         0.         0.\n",
      " 0.         0.00791209 0.         0.         0.         0.\n",
      " 0.         0.         0.         0.         0.         0.\n",
      " 0.         0.         0.         0.00527473 0.0021978  0.\n",
      " 0.         0.         0.         0.01076923 0.         0.        ]\n"
     ]
    }
   ],
   "source": [
    "from sklearn.inspection import permutation_importance\n",
    "\n",
    "hgb.fit(train_input, train_target)\n",
    "result = permutation_importance(hgb, train_input, train_target, n_repeats=10,\n",
    "                                random_state=42, n_jobs=-1)\n",
    "print(result.importances_mean)"
   ]
  },
  {
   "cell_type": "code",
   "execution_count": 20,
   "id": "eb4b6141",
   "metadata": {},
   "outputs": [
    {
     "name": "stdout",
     "output_type": "stream",
     "text": [
      "[0.         0.01140351 0.         0.00964912 0.00087719 0.00263158\n",
      " 0.00350877 0.0122807  0.         0.         0.00438596 0.00087719\n",
      " 0.         0.00877193 0.00087719 0.00175439 0.00175439 0.\n",
      " 0.         0.         0.00350877 0.00877193 0.00877193 0.00964912\n",
      " 0.00087719 0.         0.00175439 0.00789474 0.00263158 0.        ]\n"
     ]
    }
   ],
   "source": [
    "result = permutation_importance(hgb, test_input, test_target, n_repeats=10,\n",
    "                                random_state=42, n_jobs=-1)\n",
    "print(result.importances_mean)"
   ]
  },
  {
   "cell_type": "code",
   "execution_count": 21,
   "id": "a62f8663",
   "metadata": {},
   "outputs": [
    {
     "data": {
      "text/plain": [
       "0.9736842105263158"
      ]
     },
     "execution_count": 21,
     "metadata": {},
     "output_type": "execute_result"
    }
   ],
   "source": [
    "hgb.score(test_input, test_target)"
   ]
  },
  {
   "cell_type": "code",
   "execution_count": 22,
   "id": "ddd2ce64",
   "metadata": {},
   "outputs": [
    {
     "name": "stdout",
     "output_type": "stream",
     "text": [
      "1.0 0.9626373626373628\n"
     ]
    }
   ],
   "source": [
    "#XGBoost\n",
    "from xgboost import XGBClassifier\n",
    "\n",
    "xgb = XGBClassifier(tree_method='hist', random_state=42)\n",
    "scores = cross_validate(xgb, train_input, train_target, return_train_score=True, n_jobs=-1)\n",
    "\n",
    "print(np.mean(scores['train_score']), np.mean(scores['test_score']))"
   ]
  },
  {
   "cell_type": "code",
   "execution_count": 24,
   "id": "143da935",
   "metadata": {},
   "outputs": [
    {
     "name": "stdout",
     "output_type": "stream",
     "text": [
      "Collecting lightgbm\n",
      "  Downloading lightgbm-3.3.5-py3-none-win_amd64.whl (1.0 MB)\n",
      "     ---------------------------------------- 1.0/1.0 MB 5.9 MB/s eta 0:00:00\n",
      "Requirement already satisfied: scikit-learn!=0.22.0 in c:\\users\\tfg155\\anaconda3\\lib\\site-packages (from lightgbm) (1.0.2)\n",
      "Requirement already satisfied: numpy in c:\\users\\tfg155\\anaconda3\\lib\\site-packages (from lightgbm) (1.23.5)\n",
      "Requirement already satisfied: scipy in c:\\users\\tfg155\\anaconda3\\lib\\site-packages (from lightgbm) (1.9.1)\n",
      "Requirement already satisfied: wheel in c:\\users\\tfg155\\anaconda3\\lib\\site-packages (from lightgbm) (0.37.1)\n",
      "Requirement already satisfied: joblib>=0.11 in c:\\users\\tfg155\\anaconda3\\lib\\site-packages (from scikit-learn!=0.22.0->lightgbm) (1.1.0)\n",
      "Requirement already satisfied: threadpoolctl>=2.0.0 in c:\\users\\tfg155\\anaconda3\\lib\\site-packages (from scikit-learn!=0.22.0->lightgbm) (2.2.0)\n",
      "Installing collected packages: lightgbm\n",
      "Successfully installed lightgbm-3.3.5\n",
      "1.0 0.964835164835165\n"
     ]
    }
   ],
   "source": [
    "#LightGBM\n",
    "!pip install lightgbm\n",
    "from lightgbm import LGBMClassifier\n",
    "\n",
    "lgb = LGBMClassifier(random_state=42)\n",
    "scores = cross_validate(lgb, train_input, train_target, return_train_score=True, n_jobs=-1)\n",
    "\n",
    "print(np.mean(scores['train_score']), np.mean(scores['test_score']))"
   ]
  }
 ],
 "metadata": {
  "kernelspec": {
   "display_name": "Python 3 (ipykernel)",
   "language": "python",
   "name": "python3"
  },
  "language_info": {
   "codemirror_mode": {
    "name": "ipython",
    "version": 3
   },
   "file_extension": ".py",
   "mimetype": "text/x-python",
   "name": "python",
   "nbconvert_exporter": "python",
   "pygments_lexer": "ipython3",
   "version": "3.9.13"
  }
 },
 "nbformat": 4,
 "nbformat_minor": 5
}
